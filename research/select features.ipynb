{
 "cells": [
  {
   "cell_type": "markdown",
   "metadata": {},
   "source": [
    "Для различных методов классификации выполняем отбор признаков. Из всех признаков выбираем те, которые дают максимальную точность классификации."
   ]
  },
  {
   "cell_type": "markdown",
   "metadata": {},
   "source": [
    "Загрузка данных и подготовка обучающей и тестовой выборок."
   ]
  },
  {
   "cell_type": "code",
   "execution_count": 1,
   "metadata": {},
   "outputs": [],
   "source": [
    "import numpy as np"
   ]
  },
  {
   "cell_type": "code",
   "execution_count": 2,
   "metadata": {},
   "outputs": [],
   "source": [
    "train_set = np.load('train_set.npy')\n",
    "test_set = np.load('test_set.npy')"
   ]
  },
  {
   "cell_type": "code",
   "execution_count": 3,
   "metadata": {},
   "outputs": [],
   "source": [
    "X_train = train_set[:, :-1]\n",
    "y_train = train_set[:, -1].astype(int)\n",
    "\n",
    "X_test = test_set[:, :-1]\n",
    "y_test = test_set[:, -1].astype(int)"
   ]
  },
  {
   "cell_type": "code",
   "execution_count": 4,
   "metadata": {},
   "outputs": [],
   "source": [
    "X_train = np.nan_to_num(X_train)\n",
    "X_test = np.nan_to_num(X_test)"
   ]
  },
  {
   "cell_type": "code",
   "execution_count": 5,
   "metadata": {},
   "outputs": [],
   "source": [
    "from sklearn.preprocessing import StandardScaler\n",
    "\n",
    "scaler = StandardScaler()\n",
    "X_train = scaler.fit_transform(X_train)\n",
    "X_test = scaler.transform(X_test)"
   ]
  },
  {
   "cell_type": "markdown",
   "metadata": {},
   "source": [
    "Для ускорения расчётов обучаться будем только на 100 первых пользователях:"
   ]
  },
  {
   "cell_type": "code",
   "execution_count": 6,
   "metadata": {},
   "outputs": [],
   "source": [
    "X_train = X_train[:3 * 100, :]\n",
    "y_train = y_train[:3 * 100]\n",
    "\n",
    "X_test = X_test[:100, :]\n",
    "y_test = y_test[:100]"
   ]
  },
  {
   "cell_type": "markdown",
   "metadata": {},
   "source": [
    "Функция, которая позволяет находить признаки, дающие наибольшую точность классификации."
   ]
  },
  {
   "cell_type": "code",
   "execution_count": 7,
   "metadata": {},
   "outputs": [],
   "source": [
    "def select_features(X_train, y_train, X_test, y_test, model):\n",
    "\n",
    "    combination = []\n",
    "    all_indexes = set(np.arange(X_train.shape[1], dtype=int))\n",
    "    \n",
    "    best_score = 0\n",
    "    best_comb = []\n",
    "    best = lambda score, comb: (score, comb.copy()) if score > best_score else (best_score, best_comb)\n",
    "\n",
    "    if len(np.unique(y_train)) == 1:\n",
    "        return best_score, best_comb\n",
    "\n",
    "    unused_indexes = all_indexes - set(combination)\n",
    "\n",
    "    while len(unused_indexes) > 0:\n",
    "\n",
    "        scores = []\n",
    "\n",
    "        indexes = list(unused_indexes)\n",
    "\n",
    "        for index in indexes:\n",
    "            comb = list(combination) + [index]\n",
    "\n",
    "            model.fit(X_train[:, comb], y_train)\n",
    "            score = model.score(X_test[:, comb], y_test)\n",
    "            scores.append(score)\n",
    "\n",
    "        max_index = np.argmax(scores)\n",
    "        max_score = scores[max_index]\n",
    "        combination.append(indexes[max_index])\n",
    "\n",
    "        best_score, best_comb = best(max_score, combination)\n",
    "\n",
    "        unused_indexes = all_indexes - set(combination)\n",
    "        \n",
    "    return best_score, best_comb"
   ]
  },
  {
   "cell_type": "markdown",
   "metadata": {},
   "source": [
    "Выполним поиск признаков, максимизирующих точность, для модели KNeighborsClassifier:"
   ]
  },
  {
   "cell_type": "code",
   "execution_count": 8,
   "metadata": {},
   "outputs": [],
   "source": [
    "from sklearn.model_selection import StratifiedKFold\n",
    "\n",
    "# в обучающей выборке по 3 примера каждого класса, поэтому можно сформировать 3 варианта уникальных разбиений:\n",
    "# 0, 1 - 2\n",
    "# 0, 2 - 1\n",
    "# 1, 2 - 0\n",
    "skf = StratifiedKFold(n_splits=3)"
   ]
  },
  {
   "cell_type": "code",
   "execution_count": 9,
   "metadata": {},
   "outputs": [],
   "source": [
    "from sklearn.neighbors import KNeighborsClassifier\n",
    "from sklearn.linear_model import LogisticRegression\n",
    "from sklearn.naive_bayes import GaussianNB\n",
    "from sklearn.svm import SVC\n",
    "from sklearn.neural_network import MLPClassifier\n",
    "from sklearn.tree import DecisionTreeClassifier\n",
    "from sklearn.ensemble import RandomForestClassifier"
   ]
  },
  {
   "cell_type": "code",
   "execution_count": 10,
   "metadata": {},
   "outputs": [],
   "source": [
    "models = [KNeighborsClassifier(n_neighbors=3),\n",
    "          LogisticRegression(solver='lbfgs', multi_class='multinomial', max_iter=1_000),\n",
    "          GaussianNB(),\n",
    "          SVC(gamma='auto'),\n",
    "          MLPClassifier(hidden_layer_sizes=(10, 10), max_iter=10_000),\n",
    "          DecisionTreeClassifier(min_samples_leaf=2),\n",
    "          RandomForestClassifier(min_samples_leaf=2, n_estimators=20)\n",
    "         ]"
   ]
  },
  {
   "cell_type": "code",
   "execution_count": 11,
   "metadata": {},
   "outputs": [
    {
     "name": "stdout",
     "output_type": "stream",
     "text": [
      "KNeighborsClassifier\n",
      "Точность 0.91 на признаках [3, 0, 4, 6, 11, 2, 1, 13, 10, 5, 12, 7, 27, 28, 19, 9]\n",
      "Точность 0.96 на признаках [2, 10, 5, 1, 7, 0, 12, 14, 3, 8, 9, 11, 6, 4, 13, 27, 19, 29, 15, 18, 23, 28, 33]\n",
      "Точность 0.93 на признаках [28, 5, 2, 12, 10, 13, 9, 3, 7, 6, 36, 37, 41, 44, 45, 46, 47, 48, 4, 8, 34, 11, 15, 1, 20, 14]\n",
      "Средняя точность на контрольной выборке 0.9333333333333335\n",
      "Лучшая точность на тестовой выборке 0.97\n",
      "Признаки: [(3, 3), (4, 3), (6, 3), (11, 3), (2, 3), (1, 3), (13, 3), (10, 3), (5, 3), (12, 3), (7, 3), (28, 3), (9, 3), (0, 2), (27, 2), (19, 2), (14, 2), (8, 2), (15, 2), (29, 1), (18, 1), (23, 1), (33, 1), (36, 1), (37, 1), (41, 1), (44, 1), (45, 1), (46, 1), (47, 1), (48, 1), (34, 1), (20, 1)]\n",
      "LogisticRegression\n",
      "Точность 0.99 на признаках [27, 7, 4, 2, 3, 0, 8, 9, 6, 19, 11, 10, 32, 13, 5, 28, 25, 21, 36, 12, 1]\n",
      "Точность 1.0 на признаках [5, 13, 27, 7, 2, 9, 6, 12, 10, 15, 4, 28, 8, 1, 0, 3, 20]\n",
      "Точность 0.99 на признаках [27, 35, 3, 2, 9, 12, 8, 0, 6, 4, 7, 11, 15, 13, 1, 14, 36]\n",
      "Средняя точность на контрольной выборке 0.9933333333333333\n",
      "Лучшая точность на тестовой выборке 1.0\n",
      "Признаки: [(27, 3), (7, 3), (4, 3), (2, 3), (3, 3), (0, 3), (8, 3), (9, 3), (6, 3), (13, 3), (12, 3), (1, 3), (11, 2), (10, 2), (5, 2), (28, 2), (36, 2), (15, 2), (19, 1), (32, 1), (25, 1), (21, 1), (20, 1), (35, 1), (14, 1)]\n",
      "GaussianNB\n"
     ]
    },
    {
     "name": "stderr",
     "output_type": "stream",
     "text": [
      "C:\\Users\\stas\\Anaconda3\\lib\\site-packages\\sklearn\\naive_bayes.py:436: RuntimeWarning: divide by zero encountered in log\n",
      "  n_ij = - 0.5 * np.sum(np.log(2. * np.pi * self.sigma_[i, :]))\n",
      "C:\\Users\\stas\\Anaconda3\\lib\\site-packages\\sklearn\\naive_bayes.py:438: RuntimeWarning: invalid value encountered in true_divide\n",
      "  (self.sigma_[i, :]), 1)\n",
      "C:\\Users\\stas\\Anaconda3\\lib\\site-packages\\sklearn\\naive_bayes.py:436: RuntimeWarning: divide by zero encountered in log\n",
      "  n_ij = - 0.5 * np.sum(np.log(2. * np.pi * self.sigma_[i, :]))\n",
      "C:\\Users\\stas\\Anaconda3\\lib\\site-packages\\sklearn\\naive_bayes.py:438: RuntimeWarning: invalid value encountered in true_divide\n",
      "  (self.sigma_[i, :]), 1)\n"
     ]
    },
    {
     "name": "stdout",
     "output_type": "stream",
     "text": [
      "Точность 0.42 на признаках [3, 28, 9, 0, 2, 5, 20, 37, 44, 6, 4, 25, 33, 30, 48, 10, 15, 22, 21, 11, 17, 43, 41]\n"
     ]
    },
    {
     "name": "stderr",
     "output_type": "stream",
     "text": [
      "C:\\Users\\stas\\Anaconda3\\lib\\site-packages\\sklearn\\naive_bayes.py:436: RuntimeWarning: divide by zero encountered in log\n",
      "  n_ij = - 0.5 * np.sum(np.log(2. * np.pi * self.sigma_[i, :]))\n",
      "C:\\Users\\stas\\Anaconda3\\lib\\site-packages\\sklearn\\naive_bayes.py:438: RuntimeWarning: invalid value encountered in true_divide\n",
      "  (self.sigma_[i, :]), 1)\n",
      "C:\\Users\\stas\\Anaconda3\\lib\\site-packages\\sklearn\\naive_bayes.py:436: RuntimeWarning: divide by zero encountered in log\n",
      "  n_ij = - 0.5 * np.sum(np.log(2. * np.pi * self.sigma_[i, :]))\n",
      "C:\\Users\\stas\\Anaconda3\\lib\\site-packages\\sklearn\\naive_bayes.py:438: RuntimeWarning: invalid value encountered in true_divide\n",
      "  (self.sigma_[i, :]), 1)\n"
     ]
    },
    {
     "name": "stdout",
     "output_type": "stream",
     "text": [
      "Точность 0.43 на признаках [8, 13, 11, 4, 6, 7, 1, 32, 37, 44, 48, 3, 36, 26, 40, 43, 5, 28, 31, 15, 30, 42, 47, 39]\n"
     ]
    },
    {
     "name": "stderr",
     "output_type": "stream",
     "text": [
      "C:\\Users\\stas\\Anaconda3\\lib\\site-packages\\sklearn\\naive_bayes.py:436: RuntimeWarning: divide by zero encountered in log\n",
      "  n_ij = - 0.5 * np.sum(np.log(2. * np.pi * self.sigma_[i, :]))\n",
      "C:\\Users\\stas\\Anaconda3\\lib\\site-packages\\sklearn\\naive_bayes.py:438: RuntimeWarning: invalid value encountered in true_divide\n",
      "  (self.sigma_[i, :]), 1)\n",
      "C:\\Users\\stas\\Anaconda3\\lib\\site-packages\\sklearn\\naive_bayes.py:436: RuntimeWarning: divide by zero encountered in log\n",
      "  n_ij = - 0.5 * np.sum(np.log(2. * np.pi * self.sigma_[i, :]))\n",
      "C:\\Users\\stas\\Anaconda3\\lib\\site-packages\\sklearn\\naive_bayes.py:438: RuntimeWarning: invalid value encountered in true_divide\n",
      "  (self.sigma_[i, :]), 1)\n"
     ]
    },
    {
     "name": "stdout",
     "output_type": "stream",
     "text": [
      "Точность 0.44 на признаках [28, 5, 2, 34, 11, 6, 30, 37, 44, 18, 10, 13, 40, 16, 20, 47, 26, 33, 22, 31, 1, 4, 43, 27, 19, 36, 42]\n",
      "Средняя точность на контрольной выборке 0.43\n",
      "Лучшая точность на тестовой выборке 0.65\n",
      "Признаки: [(28, 3), (5, 3), (37, 3), (44, 3), (6, 3), (4, 3), (30, 3), (11, 3), (43, 3), (3, 2), (2, 2), (20, 2), (33, 2), (48, 2), (10, 2), (15, 2), (22, 2), (13, 2), (1, 2), (36, 2), (26, 2), (40, 2), (31, 2), (42, 2), (47, 2), (9, 1), (0, 1), (25, 1), (21, 1), (17, 1), (41, 1), (8, 1), (7, 1), (32, 1), (39, 1), (34, 1), (18, 1), (16, 1), (27, 1), (19, 1)]\n",
      "SVC\n",
      "Точность 0.98 на признаках [28, 2, 5, 9, 0, 11, 27, 8, 10, 19, 6, 29, 41, 7, 37, 44, 45, 46, 47, 48, 1, 3, 34, 32, 4, 12, 13, 36]\n",
      "Точность 1.0 на признаках [27, 1, 4, 11, 2, 10, 9, 13, 7, 6, 34, 5, 12, 28, 8, 15, 0, 3, 20]\n",
      "Точность 0.99 на признаках [27, 8, 34, 1, 13, 3, 10, 4, 7, 2, 6, 9, 15, 5, 11, 25, 18]\n",
      "Средняя точность на контрольной выборке 0.9899999999999999\n",
      "Лучшая точность на тестовой выборке 0.99\n",
      "Признаки: [(2, 3), (5, 3), (9, 3), (11, 3), (27, 3), (8, 3), (10, 3), (6, 3), (7, 3), (1, 3), (3, 3), (34, 3), (4, 3), (13, 3), (28, 2), (0, 2), (12, 2), (15, 2), (19, 1), (29, 1), (41, 1), (37, 1), (44, 1), (45, 1), (46, 1), (47, 1), (48, 1), (32, 1), (36, 1), (20, 1), (25, 1), (18, 1)]\n",
      "MLPClassifier\n",
      "Точность 0.74 на признаках [13, 7, 8, 2, 12, 11, 10, 27, 9, 0, 6, 39, 33, 36]\n",
      "Точность 0.81 на признаках [27, 11, 13, 3, 7, 12, 10, 2, 9, 1, 38, 0]\n",
      "Точность 0.77 на признаках [28, 10, 13, 12, 1, 3, 34, 31, 15, 47, 7, 26, 48, 6, 0, 46, 2, 33, 45, 27, 16, 29, 8, 4, 17, 9, 44]\n",
      "Средняя точность на контрольной выборке 0.7733333333333334\n",
      "Лучшая точность на тестовой выборке 0.88\n",
      "Признаки: [(13, 3), (7, 3), (2, 3), (12, 3), (10, 3), (27, 3), (9, 3), (0, 3), (8, 2), (11, 2), (6, 2), (33, 2), (3, 2), (1, 2), (39, 1), (36, 1), (38, 1), (28, 1), (34, 1), (31, 1), (15, 1), (47, 1), (26, 1), (48, 1), (46, 1), (45, 1), (16, 1), (29, 1), (4, 1), (17, 1), (44, 1)]\n",
      "DecisionTreeClassifier\n",
      "Точность 0.47 на признаках [27, 13, 8, 5, 36, 41, 4, 19, 37, 48, 43, 39, 26, 20, 24, 42, 44, 16, 3, 25, 45, 0, 1, 23, 38, 2, 28, 12, 9, 11, 35, 40, 46]\n",
      "Точность 0.52 на признаках [7, 11, 4, 34, 12, 26, 23, 45, 37, 18, 10, 6, 14, 36, 33, 32, 22, 19, 43, 42, 21, 25, 47]\n",
      "Точность 0.52 на признаках [29, 3, 1, 13, 6, 45, 10, 17, 25, 26, 14, 8, 30, 40]\n",
      "Средняя точность на контрольной выборке 0.5033333333333333\n",
      "Лучшая точность на тестовой выборке 0.51\n",
      "Признаки: [(26, 3), (25, 3), (45, 3), (13, 2), (8, 2), (36, 2), (4, 2), (19, 2), (37, 2), (43, 2), (42, 2), (3, 2), (1, 2), (23, 2), (12, 2), (11, 2), (40, 2), (10, 2), (6, 2), (14, 2), (27, 1), (5, 1), (41, 1), (48, 1), (39, 1), (20, 1), (24, 1), (44, 1), (16, 1), (0, 1), (38, 1), (2, 1), (28, 1), (9, 1), (35, 1), (46, 1), (7, 1), (34, 1), (18, 1), (33, 1), (32, 1), (22, 1), (21, 1), (47, 1), (29, 1), (17, 1), (30, 1)]\n",
      "RandomForestClassifier\n",
      "Точность 0.74 на признаках [3, 4, 7, 6, 13, 34, 36, 11, 14, 0, 44, 39, 2, 8, 15, 5, 28, 38, 41, 20, 16, 35]\n",
      "Точность 0.77 на признаках [7, 3, 29, 4, 9, 11, 1, 8, 20, 5, 17, 43, 18, 27, 42, 10, 28, 0, 48, 19, 38, 12, 6, 25, 44]\n",
      "Точность 0.76 на признаках [28, 13, 29, 8, 2, 1, 6, 4, 21, 31, 17, 0, 44, 38, 37, 10, 33, 25, 40, 5, 42, 32, 30, 7, 18, 46, 20, 27, 16, 34, 43, 15, 35, 3, 36, 24, 9, 45, 48, 47, 11, 19, 41, 14]\n",
      "Средняя точность на контрольной выборке 0.7566666666666667\n",
      "Лучшая точность на тестовой выборке 0.86\n",
      "Признаки: [(3, 3), (4, 3), (7, 3), (6, 3), (11, 3), (0, 3), (44, 3), (8, 3), (5, 3), (28, 3), (38, 3), (20, 3), (13, 2), (34, 2), (36, 2), (14, 2), (2, 2), (15, 2), (41, 2), (16, 2), (35, 2), (29, 2), (9, 2), (1, 2), (17, 2), (43, 2), (18, 2), (27, 2), (42, 2), (10, 2), (48, 2), (19, 2), (25, 2), (39, 1), (12, 1), (21, 1), (31, 1), (37, 1), (33, 1), (40, 1), (32, 1), (30, 1), (46, 1), (24, 1), (45, 1), (47, 1)]\n"
     ]
    }
   ],
   "source": [
    "from collections import Counter\n",
    "\n",
    "for model in models:\n",
    "    \n",
    "    print(model.__class__.__name__)\n",
    "    \n",
    "    model_features = Counter()\n",
    "    train_scores = []\n",
    "    test_scores = []\n",
    "    \n",
    "    for train_index, test_index in skf.split(X_train, y_train):\n",
    "        best_score, best_comb = select_features(X_train[train_index], y_train[train_index], X_train[test_index], y_train[test_index], model)\n",
    "        \n",
    "        print('Точность', best_score, 'на признаках', best_comb)\n",
    "        \n",
    "        for item in best_comb:\n",
    "            model_features[item] += 1\n",
    "        \n",
    "        model.fit(X_train[:, best_comb], y_train)\n",
    "        \n",
    "        train_scores.append(best_score)\n",
    "        test_scores.append(model.score(X_test[:, best_comb], y_test))\n",
    "        \n",
    "    print('Средняя точность на контрольной выборке', np.mean(train_scores))\n",
    "    print('Лучшая точность на тестовой выборке', np.max(test_scores))\n",
    "    print('Признаки:', model_features.most_common())"
   ]
  },
  {
   "cell_type": "code",
   "execution_count": null,
   "metadata": {},
   "outputs": [],
   "source": []
  }
 ],
 "metadata": {
  "kernelspec": {
   "display_name": "Python 3",
   "language": "python",
   "name": "python3"
  },
  "language_info": {
   "codemirror_mode": {
    "name": "ipython",
    "version": 3
   },
   "file_extension": ".py",
   "mimetype": "text/x-python",
   "name": "python",
   "nbconvert_exporter": "python",
   "pygments_lexer": "ipython3",
   "version": "3.6.8"
  }
 },
 "nbformat": 4,
 "nbformat_minor": 2
}
