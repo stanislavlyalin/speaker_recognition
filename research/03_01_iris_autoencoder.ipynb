{
 "cells": [
  {
   "cell_type": "markdown",
   "metadata": {},
   "source": [
    "# Исследование автоэнкодера для снижения размерности"
   ]
  },
  {
   "cell_type": "markdown",
   "metadata": {},
   "source": [
    "Загрузка необходимых библиотек"
   ]
  },
  {
   "cell_type": "code",
   "execution_count": 28,
   "metadata": {},
   "outputs": [],
   "source": [
    "from sklearn.model_selection import train_test_split\n",
    "from sklearn.neural_network import MLPRegressor\n",
    "from sklearn import datasets\n",
    "import sys\n",
    "import matplotlib.pyplot as plt\n",
    "import numpy as np"
   ]
  },
  {
   "cell_type": "markdown",
   "metadata": {},
   "source": [
    "Загрузка датасета Iris"
   ]
  },
  {
   "cell_type": "code",
   "execution_count": 29,
   "metadata": {},
   "outputs": [],
   "source": [
    "iris = datasets.load_iris()\n",
    "X = iris.data\n",
    "y = iris.target\n",
    "\n",
    "X_train, X_test, y_train, y_test = train_test_split(X, y, test_size=0.3, random_state=42)"
   ]
  },
  {
   "cell_type": "markdown",
   "metadata": {},
   "source": [
    "Поиск перебором наилучшей архитектуры автоэнкодера"
   ]
  },
  {
   "cell_type": "code",
   "execution_count": 30,
   "metadata": {},
   "outputs": [
    {
     "name": "stdout",
     "output_type": "stream",
     "text": [
      "Наименьшая ошибка при 2 нейронах в скрытом слое. Ошибка 0.070\n",
      "Наименьшая ошибка при 3 нейронах в скрытом слое. Ошибка 0.050\n",
      "Наименьшая ошибка при 5 нейронах в скрытом слое. Ошибка 0.021\n"
     ]
    }
   ],
   "source": [
    "best_mse = sys.float_info.max\n",
    "\n",
    "for hidden_neurons in range(2, 31):\n",
    "    model = MLPRegressor(\n",
    "        hidden_layer_sizes=(hidden_neurons, 2, hidden_neurons),\n",
    "        max_iter=5000, shuffle=False, random_state=30,\n",
    "        activation='logistic', solver='lbfgs')\n",
    "    model.fit(X_train, X_train)\n",
    "    X_predicted = model.predict(X_test)\n",
    "    mse = ((X_test - X_predicted) ** 2).mean(axis=None)\n",
    "\n",
    "    if mse < best_mse:\n",
    "        best_mse = mse\n",
    "        print('Наименьшая ошибка при %d нейронах в скрытом слое. Ошибка %.3f' % (hidden_neurons, mse))"
   ]
  },
  {
   "cell_type": "markdown",
   "metadata": {},
   "source": [
    "Создание нейронной сети с архитектурой автоэнкодера и её обучение"
   ]
  },
  {
   "cell_type": "code",
   "execution_count": 31,
   "metadata": {},
   "outputs": [
    {
     "data": {
      "text/plain": [
       "MLPRegressor(activation='logistic', alpha=0.0001, batch_size='auto',\n",
       "       beta_1=0.9, beta_2=0.999, early_stopping=False, epsilon=1e-08,\n",
       "       hidden_layer_sizes=(5, 2, 5), learning_rate='constant',\n",
       "       learning_rate_init=0.001, max_iter=50000, momentum=0.9,\n",
       "       nesterovs_momentum=True, power_t=0.5, random_state=30,\n",
       "       shuffle=False, solver='lbfgs', tol=0.0001, validation_fraction=0.1,\n",
       "       verbose=False, warm_start=False)"
      ]
     },
     "execution_count": 31,
     "metadata": {},
     "output_type": "execute_result"
    }
   ],
   "source": [
    "model = MLPRegressor(\n",
    "    hidden_layer_sizes=(5, 2, 5),\n",
    "    max_iter=50000, shuffle=False, random_state=30,\n",
    "    activation='logistic', solver='lbfgs')\n",
    "\n",
    "# модель обучается на тренировочной выборке\n",
    "model.fit(X_train, X_train)"
   ]
  },
  {
   "cell_type": "markdown",
   "metadata": {},
   "source": [
    "Проверка качества обученной нейронной сети. Для этого с помощью обученной на тренировочных данных модели предсказываем отклики для тестовых данных и сравниваем с эталоном (красные точки - эталонные данные, синие - предсказание обученной модели)."
   ]
  },
  {
   "cell_type": "code",
   "execution_count": 32,
   "metadata": {},
   "outputs": [
    {
     "data": {
      "image/png": "[encoded data removed]",
      "text/plain": [
       "<Figure size 432x288 with 1 Axes>"
      ]
     },
     "metadata": {},
     "output_type": "display_data"
    },
    {
     "data": {
      "image/png": "[encoded data removed]",
      "text/plain": [
       "<Figure size 432x288 with 1 Axes>"
      ]
     },
     "metadata": {},
     "output_type": "display_data"
    }
   ],
   "source": [
    "# прогноз с помощью обученного автоэнкодера для тестовых данных\n",
    "X_predicted = model.predict(X_test)\n",
    "\n",
    "# признаки 0 и 1\n",
    "plt.plot(X_test[:,0], X_test[:,1], 'r.')\n",
    "plt.plot(X_predicted[:,0], X_predicted[:,1], 'b.')\n",
    "plt.xlabel('X[0]')\n",
    "plt.ylabel('X[1]')\n",
    "plt.show()\n",
    "\n",
    "# признаки 2 и 3\n",
    "plt.plot(X_test[:,2], X_test[:,3], 'r.')\n",
    "plt.plot(X_predicted[:,2], X_predicted[:,3], 'b.')\n",
    "plt.xlabel('X[2]')\n",
    "plt.ylabel('X[3]')\n",
    "plt.show()"
   ]
  },
  {
   "cell_type": "markdown",
   "metadata": {},
   "source": [
    "Применение обученной модели для снижения размерности с 4 признаков до 2 признаков. Нарисуем на графике точки всех трёх классов."
   ]
  },
  {
   "cell_type": "code",
   "execution_count": 33,
   "metadata": {
    "scrolled": true
   },
   "outputs": [
    {
     "data": {
      "image/png": "[encoded data removed]",
      "text/plain": [
       "<Figure size 432x288 with 1 Axes>"
      ]
     },
     "metadata": {},
     "output_type": "display_data"
    }
   ],
   "source": [
    "# запомним коэффициенты из обученной модели\n",
    "theta1 = model.coefs_[0]\n",
    "theta2 = model.coefs_[1]\n",
    "\n",
    "# создадим и фиктивно обучим новую модель (авторегрессор), чтобы сформировать нужную внутреннюю архитектуру\n",
    "model_ae = MLPRegressor(hidden_layer_sizes=(5), max_iter=2000, shuffle=False)\n",
    "model_ae.fit(X, X[:,:2])\n",
    "\n",
    "# присвоим коэффициенты от ранее обученной модели\n",
    "model_ae.coefs_[0] = theta1\n",
    "model_ae.coefs_[1] = theta2\n",
    "\n",
    "# выполним предсказание. По сути - это переход от 4-мерного пространства к 2-мерному\n",
    "X_ae = model.predict(X)\n",
    "\n",
    "# отобразим на графике\n",
    "plt.plot(X_ae[y == 0, 0], X_ae[y == 0, 1], 'r.')\n",
    "plt.plot(X_ae[y == 1, 0], X_ae[y == 1, 1], 'g.')\n",
    "plt.plot(X_ae[y == 2, 0], X_ae[y == 2, 1], 'b.')\n",
    "plt.show()"
   ]
  },
  {
   "cell_type": "code",
   "execution_count": null,
   "metadata": {},
   "outputs": [],
   "source": []
  }
 ],
 "metadata": {
  "kernelspec": {
   "display_name": "Python 3",
   "language": "python",
   "name": "python3"
  },
  "language_info": {
   "codemirror_mode": {
    "name": "ipython",
    "version": 3
   },
   "file_extension": ".py",
   "mimetype": "text/x-python",
   "name": "python",
   "nbconvert_exporter": "python",
   "pygments_lexer": "ipython3",
   "version": "3.6.5"
  }
 },
 "nbformat": 4,
 "nbformat_minor": 2
}
